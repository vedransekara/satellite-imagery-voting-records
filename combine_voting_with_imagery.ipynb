{
 "cells": [
  {
   "cell_type": "markdown",
   "metadata": {},
   "source": [
    "# combine voting outcomes with imagery"
   ]
  },
  {
   "cell_type": "code",
   "execution_count": 2,
   "metadata": {},
   "outputs": [],
   "source": [
    "import pandas as pd\n",
    "import json\n",
    "import matplotlib.pyplot as plt\n",
    "from collections import defaultdict\n",
    "import random\n",
    "import numpy as np\n",
    "import operator\n",
    "import os\n",
    "import cv2\n",
    "%matplotlib notebook"
   ]
  },
  {
   "cell_type": "markdown",
   "metadata": {},
   "source": [
    "__Load voting counts from June 5th 2019 election__"
   ]
  },
  {
   "cell_type": "code",
   "execution_count": 3,
   "metadata": {},
   "outputs": [],
   "source": [
    "dat = pd.read_csv('total_fintal.csv',sep=';',encoding='latin1')\n",
    "dat = dat[dat['Resultattype'] == 'Opstillingskreds'].reset_index(drop=True)\n",
    "# parse name of opstillingskrese\n",
    "dat['Sted'] = dat['Sted'].str.split(' ').str[1:].str.join(' ')"
   ]
  },
  {
   "cell_type": "markdown",
   "metadata": {},
   "source": [
    "__Load imagery data__"
   ]
  },
  {
   "cell_type": "code",
   "execution_count": 4,
   "metadata": {},
   "outputs": [],
   "source": [
    "imagery_info = pd.read_csv('points_data_zoom16.csv',names=['file_id','opstillingsnavn','lat','lon'],header=0,\n",
    "                          encoding='utf-8')\n",
    "# manually fixing one error as one electoral district's name is not consistent across the shape and voting datafiles\n",
    "imagery_info.loc[imagery_info['opstillingsnavn']=='Utterslev','opstillingsnavn'] = 'Bispebjerg'"
   ]
  },
  {
   "cell_type": "markdown",
   "metadata": {},
   "source": [
    "__Load electoral district boundaries (\"Opstillingskreds\" in danish)__"
   ]
  },
  {
   "cell_type": "code",
   "execution_count": 5,
   "metadata": {},
   "outputs": [],
   "source": [
    "with open('opstillingskreds.geojson','rb') as f:\n",
    "    shapes = json.load(f)"
   ]
  },
  {
   "cell_type": "code",
   "execution_count": 6,
   "metadata": {},
   "outputs": [],
   "source": [
    "parties = [u'A. Socialdemokratiet',u'B. Radikale Venstre',u'O. Dansk Folkeparti',\n",
    "           u'V. Venstre, Danmarks Liberale Parti',u'Ø. Enhedslisten - De Rød-Grønne',\n",
    "          'C. Det Konservative Folkeparti'\n",
    "          ]"
   ]
  },
  {
   "cell_type": "code",
   "execution_count": 7,
   "metadata": {},
   "outputs": [],
   "source": [
    "ordered_ = defaultdict(list)\n",
    "# go through electoral districts\n",
    "for index, row in dat.iterrows():\n",
    "    for p in parties:\n",
    "        p_votes = row[p]/float(row['Gyldige stemmer'])\n",
    "        ordered_[p].append((p_votes,row['Sted']))\n",
    "        \n",
    "# find top 10 districts for each part\n",
    "top_districts = dict()\n",
    "for p in parties:\n",
    "    top_districts[p] = sorted(ordered_[p],reverse=True,key=operator.itemgetter(0))[:10]"
   ]
  },
  {
   "cell_type": "code",
   "execution_count": null,
   "metadata": {},
   "outputs": [],
   "source": [
    "# add imagery info for each district in top districts\n",
    "tiles = dict()\n",
    "for p in top_districts:\n",
    "    tiles[p] = []\n",
    "    for _,d in top_districts[p]:\n",
    "        tiles[p].extend(imagery_info[imagery_info['opstillingsnavn'] == d]['file_id'])"
   ]
  },
  {
   "cell_type": "markdown",
   "metadata": {},
   "source": [
    "__load images and merge tiles into one figure__"
   ]
  },
  {
   "cell_type": "code",
   "execution_count": 13,
   "metadata": {},
   "outputs": [],
   "source": [
    "# load images\n",
    "path = 'tiles/zoom16/'\n",
    "dim = 600\n",
    "\n",
    "for p in tiles:\n",
    "\n",
    "    ordered_img = [] # to store data\n",
    "\n",
    "    # go through images\n",
    "    for image in random.sample(tiles[p],12):\n",
    "        # open image\n",
    "        img = cv2.imread(path + '%03d_600x600.png' % image)\n",
    "\n",
    "        # add to array\n",
    "        ordered_img.append(img)\n",
    "        \n",
    "    # horizontally stack images\n",
    "    hstack_image = None\n",
    "    # go through ordered images\n",
    "    for img in ordered_img:\n",
    "\n",
    "        # horizontally append image\n",
    "        if hstack_image is None:\n",
    "            hstack_image = img\n",
    "        else:\n",
    "            hstack_image = np.hstack((hstack_image,img))\n",
    "\n",
    "    # split linear image into multiple rows\n",
    "    row_length = 4\n",
    "    buffer_ = 4\n",
    "    hbuffer = 1*np.ones((dim,buffer_,3))\n",
    "    vbuffer = 1*np.ones((buffer_,dim*row_length + (row_length+1)*buffer_,3))\n",
    "\n",
    "    mosaic = vbuffer\n",
    "    for i in range(0,hstack_image.shape[1],dim*row_length):\n",
    "\n",
    "        # first construct row by adding buffer between images and at the ends\n",
    "        row = hbuffer # start with buffer\n",
    "        for j in range(0,dim*row_length,dim):\n",
    "            row = np.hstack((row,hstack_image[:,i+j:i+j+dim,:])) # add image\n",
    "            row = np.hstack((row,hbuffer)) # add buffer\n",
    "\n",
    "        mosaic = np.vstack((mosaic,row)) # add row\n",
    "        mosaic = np.vstack((mosaic,vbuffer)) # add buffer\n",
    "\n",
    "    # save image\n",
    "    cv2.imwrite(\"tiles/%s.png\" % p, mosaic)"
   ]
  },
  {
   "cell_type": "code",
   "execution_count": null,
   "metadata": {},
   "outputs": [],
   "source": []
  }
 ],
 "metadata": {
  "kernelspec": {
   "display_name": "Python 2",
   "language": "python",
   "name": "python2"
  },
  "language_info": {
   "codemirror_mode": {
    "name": "ipython",
    "version": 2
   },
   "file_extension": ".py",
   "mimetype": "text/x-python",
   "name": "python",
   "nbconvert_exporter": "python",
   "pygments_lexer": "ipython2",
   "version": "2.7.16"
  }
 },
 "nbformat": 4,
 "nbformat_minor": 2
}
